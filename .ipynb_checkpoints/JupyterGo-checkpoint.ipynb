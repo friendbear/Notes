{
 "cells": [
  {
   "cell_type": "markdown",
   "metadata": {},
   "source": [
    "# Jupyter Lab Go\n",
    "* Kernel Install\n",
    "  See\n",
    "  <https://github.com/gopherdata/gophernotes>\n",
    "\n",
    "## Sample Code\n",
    "\n",
    "```go\n",
    "import (\n",
    "    \"bytes\"\n",
    "    \"fmt\"\n",
    "    \"image/color\"\n",
    "    \"math\"\n",
    "    \"math/rand\"\n",
    "    \n",
    "    \"gonum.org/v1/gonum/mat\"\n",
    "    \"gonum.org/v1/plot\"\n",
    "    \"gonum.org/v1/plot/plotter\"\n",
    "    \"gonum.org/v1/plot/plotutil\"\n",
    "    \"gonum.org/v1/plot/vg\"\n",
    "    \"gonum.org/v1/plot/vg/draw\"\n",
    "    \"gonum.org/v1/plot/vg/vgimg\"\n",
    ")\n",
    "\n",
    "func DisplayPlot(p *plot.Plot) {\n",
    "    // Save the plot to a PNG file.\n",
    "    var buf bytes.Buffer\n",
    "    c, err := p.WriterTo(4*vg.Inch, 4*vg.Inch, \"png\")\n",
    "    if err != nil {\n",
    "        panic(err)\n",
    "    }\n",
    "    if _, err := c.WriteTo(&buf); err != nil {\n",
    "        panic(err)\n",
    "    }\n",
    "    _ctx.Display.PNG(buf.Bytes(), nil)\n",
    "}\n",
    "\n",
    "{\n",
    "    p, err := plot.New()\n",
    "    if err != nil {\n",
    "        panic(err)\n",
    "    }\n",
    "    \n",
    "    p.Title.Text = \"Plotutil example\"\n",
    "    p.X.Label.Text = \"X\"\n",
    "    p.Y.Label.Text = \"Y\"\n",
    "\n",
    "    err = plotutil.AddLinePoints(\n",
    "        p,\n",
    "        \"First\", randomPoints(15),\n",
    "        \"Second\", randomPoints(15),\n",
    "        \"Third\", randomPoints(15))\n",
    "    if err != nil {\n",
    "        panic(err)\n",
    "    }\n",
    "\n",
    "    DisplayPlot(p)\n",
    "}\n",
    "\n",
    "// randomPoints returns some random x, y points.\n",
    "func randomPoints(n int) plotter.XYs {\n",
    "    pts := make(plotter.XYs, n)\n",
    "    for i := range pts {\n",
    "        if i == 0 {\n",
    "            pts[i].X = rand.Float64()\n",
    "        } else {\n",
    "            pts[i].X = pts[i-1].X + rand.Float64()\n",
    "        }\n",
    "        pts[i].Y = pts[i].X + 10*rand.Float64()\n",
    "    }\n",
    "    return pts\n",
    "}\n",
    "\n",
    "```\n",
    "### How to Go Sample\n",
    "```\n",
    "$ go get -u gonum.org/v1/gonum/...\n",
    "$ go get gonum.org/v1/plot/...\n",
    "\n",
    "```\n",
    "\n",
    "Run julyter lab\n",
    "New Note(Go) -> Paste->Run\n",
    "\n",
    "### More Samples\n",
    "<https://github.com/yunabe/lgo/blob/master/examples/gonum.ipynb>\n",
    "\n",
    "### Links\n",
    "* https://github.com/gopherdata/gophernotes\n",
    "* https://github.com/gonum/plot\n",
    "* https://github.com/gonum/gonum\n"
   ]
  },
  {
   "cell_type": "code",
   "execution_count": 10,
   "metadata": {},
   "outputs": [
    {
     "name": "stdout",
     "output_type": "stream",
     "text": [
      "Go: go1.11.4 (darwin_amd64)\n",
      "User: k22\n",
      "Working dir: /Users/k22/Lab\n",
      "NumCPU: 12\n"
     ]
    }
   ],
   "source": [
    "import (\n",
    "    \"fmt\"\n",
    "    \"os\"\n",
    "    \"os/user\"\n",
    "    \"runtime\"\n",
    ")\n",
    "\n",
    "{\n",
    "    user, _ := user.Current()\n",
    "    fmt.Printf(\"Go: %s (%s_%s)\\n\", runtime.Version(), runtime.GOOS, runtime.GOARCH)\n",
    "    fmt.Printf(\"User: %s\\n\", user.Username)\n",
    "    wd, _ := os.Getwd()\n",
    "    fmt.Printf(\"Working dir: %s\\n\", wd)\n",
    "    fmt.Printf(\"NumCPU: %d\\n\", runtime.NumCPU())\n",
    "}"
   ]
  },
  {
   "cell_type": "code",
   "execution_count": 8,
   "metadata": {},
   "outputs": [],
   "source": [
    "import (\n",
    "    \"bytes\"\n",
    "    \"fmt\"\n",
    "    \"image/color\"\n",
    "    \"math\"\n",
    "    \"math/rand\"\n",
    "    \n",
    "    \"gonum.org/v1/gonum/mat\"\n",
    "    \"gonum.org/v1/plot\"\n",
    "    \"gonum.org/v1/plot/plotter\"\n",
    "    \"gonum.org/v1/plot/plotutil\"\n",
    "    \"gonum.org/v1/plot/vg\"\n",
    "    \"gonum.org/v1/plot/vg/draw\"\n",
    "    \"gonum.org/v1/plot/vg/vgimg\"\n",
    ")"
   ]
  },
  {
   "cell_type": "code",
   "execution_count": 9,
   "metadata": {},
   "outputs": [
    {
     "ename": "ERROR",
     "evalue": "repl.go:2:1: undefined \"_ctx\" in _ctx.Display <*ast.SelectorExpr>",
     "output_type": "error",
     "traceback": [
      "repl.go:2:1: undefined \"_ctx\" in _ctx.Display <*ast.SelectorExpr>"
     ]
    }
   ],
   "source": [
    "// Display HTML\n",
    "_ctx.Display.HTML(\n",
    "    `Hello <b>lgo</b>: <a target=\"_blank\" href=\"https://github.com/yunabe/lgo\" >GitHub lgo</a>\n",
    "<div style=\"width:50px;height:50px;background-color:red\"></div>`,\n",
    "    nil)"
   ]
  },
  {
   "cell_type": "code",
   "execution_count": 7,
   "metadata": {},
   "outputs": [
    {
     "ename": "ERROR",
     "evalue": "repl.go:11:5: type func(main.Data) error has no field or method \"PNG\": Display.PNG",
     "output_type": "error",
     "traceback": [
      "repl.go:11:5: type func(main.Data) error has no field or method \"PNG\": Display.PNG"
     ]
    }
   ],
   "source": [
    "func DisplayPlot(p *plot.Plot) {\n",
    "    // Save the plot to a PNG file.\n",
    "    var buf bytes.Buffer\n",
    "    c, err := p.WriterTo(4*vg.Inch, 4*vg.Inch, \"png\")\n",
    "    if err != nil {\n",
    "        panic(err)\n",
    "    }\n",
    "    if _, err := c.WriteTo(&buf); err != nil {\n",
    "        panic(err)\n",
    "    }\n",
    "    Display.PNG(buf.Bytes(), nil)\n",
    "}\n",
    "\n",
    "{\n",
    "    p, err := plot.New()\n",
    "    if err != nil {\n",
    "        panic(err)\n",
    "    }\n",
    "    \n",
    "    p.Title.Text = \"Plotutil example\"\n",
    "    p.X.Label.Text = \"X\"\n",
    "    p.Y.Label.Text = \"Y\"\n",
    "\n",
    "    err = plotutil.AddLinePoints(\n",
    "        p,\n",
    "        \"First\", randomPoints(15),\n",
    "        \"Second\", randomPoints(15),\n",
    "        \"Third\", randomPoints(15))\n",
    "    if err != nil {\n",
    "        panic(err)\n",
    "    }\n",
    "\n",
    "    DisplayPlot(p)\n",
    "}"
   ]
  },
  {
   "cell_type": "code",
   "execution_count": 6,
   "metadata": {},
   "outputs": [],
   "source": [
    "// randomPoints returns some random x, y points.\n",
    "func randomPoints(n int) plotter.XYs {\n",
    "    pts := make(plotter.XYs, n)\n",
    "    for i := range pts {\n",
    "        if i == 0 {\n",
    "            pts[i].X = rand.Float64()\n",
    "        } else {\n",
    "            pts[i].X = pts[i-1].X + rand.Float64()\n",
    "        }\n",
    "        pts[i].Y = pts[i].X + 10*rand.Float64()\n",
    "    }\n",
    "    return pts\n",
    "}"
   ]
  },
  {
   "cell_type": "code",
   "execution_count": null,
   "metadata": {},
   "outputs": [],
   "source": []
  }
 ],
 "metadata": {
  "kernelspec": {
   "display_name": "Go",
   "language": "go",
   "name": "gophernotes"
  },
  "language_info": {
   "codemirror_mode": "",
   "file_extension": ".go",
   "mimetype": "",
   "name": "go",
   "nbconvert_exporter": "",
   "pygments_lexer": "",
   "version": "go1.11.4"
  }
 },
 "nbformat": 4,
 "nbformat_minor": 2
}
