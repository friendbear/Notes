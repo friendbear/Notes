{
 "cells": [
  {
   "cell_type": "code",
   "execution_count": 6,
   "metadata": {},
   "outputs": [
    {
     "ename": "Error",
     "evalue": "<continue input>",
     "output_type": "error",
     "traceback": [
      ""
     ]
    }
   ],
   "source": [
    "import fmt \"fmt\"\n",
    "fmt.Printf(\"Hello world\\n\")"
   ]
  },
  {
   "cell_type": "code",
   "execution_count": null,
   "metadata": {},
   "outputs": [],
   "source": []
  },
  {
   "cell_type": "code",
   "execution_count": null,
   "metadata": {},
   "outputs": [],
   "source": []
  }
 ],
 "metadata": {
  "kernelspec": {
   "display_name": "Go (gopherlab)",
   "language": "go",
   "name": "gopherlab"
  },
  "language_info": {
   "file_extension": ".go",
   "mimetype": "application/x-golang",
   "name": "go",
   "version": "go1.11.4"
  }
 },
 "nbformat": 4,
 "nbformat_minor": 2
}
