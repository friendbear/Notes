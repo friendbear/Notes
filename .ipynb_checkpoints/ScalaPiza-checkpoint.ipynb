{
 "cells": [
  {
   "cell_type": "markdown",
   "metadata": {
    "toc-hr-collapsed": false
   },
   "source": [
    "## D"
   ]
  },
  {
   "cell_type": "code",
   "execution_count": null,
   "metadata": {},
   "outputs": [
    {
     "name": "stderr",
     "output_type": "stream",
     "text": [
      "(console):4:4 expected If | While | Try | DoWhile | For | Throw | Return | ImplicitLambda | SmallerExprOrLambda\n",
      "}) else println(2))\n",
      "   ^"
     ]
    },
    {
     "ename": "",
     "evalue": "",
     "output_type": "error",
     "traceback": [
      "(console):4:4 expected If | While | Try | DoWhile | For | Throw | Return | ImplicitLambda | SmallerExprOrLambda\n}) else println(2))\n   ^"
     ]
    }
   ],
   "source": [
    "val hitCounter = Some(1)\n",
    "if (hitCounter.exists { v =>\n",
    "  println(v)\n",
    "}) else println(2))\n"
   ]
  },
  {
   "cell_type": "code",
   "execution_count": 1,
   "metadata": {},
   "outputs": [
    {
     "data": {
      "text/plain": [
       "\u001b[36mres0\u001b[39m: \u001b[32mAny\u001b[39m = \u001b[32m\"None\"\u001b[39m"
      ]
     },
     "execution_count": 1,
     "metadata": {},
     "output_type": "execute_result"
    }
   ],
   "source": [
    "if (Option(1).exists{ v =>\n",
    "  true\n",
    "}) {\n",
    "  \"None\"\n",
    "}"
   ]
  },
  {
   "cell_type": "code",
   "execution_count": 2,
   "metadata": {},
   "outputs": [
    {
     "data": {
      "text/plain": [
       "\u001b[36mres1\u001b[39m: \u001b[32mList\u001b[39m[\u001b[32mString\u001b[39m] = \u001b[33mList\u001b[39m(\u001b[32m\"a\"\u001b[39m, \u001b[32m\"b\"\u001b[39m, \u001b[32m\"c\"\u001b[39m, \u001b[32m\"d\"\u001b[39m)"
      ]
     },
     "execution_count": 2,
     "metadata": {},
     "output_type": "execute_result"
    }
   ],
   "source": [
    "List(\"a b\", \"b c\", \"c d\",\"d\").flatMap(_.split(\" \")).distinct"
   ]
  },
  {
   "cell_type": "code",
   "execution_count": 3,
   "metadata": {},
   "outputs": [
    {
     "data": {
      "text/plain": [
       "\u001b[36mx\u001b[39m: \u001b[32mInt\u001b[39m = \u001b[32m10\u001b[39m"
      ]
     },
     "execution_count": 3,
     "metadata": {},
     "output_type": "execute_result"
    }
   ],
   "source": [
    "val x = 10"
   ]
  },
  {
   "cell_type": "code",
   "execution_count": 2,
   "metadata": {},
   "outputs": [
    {
     "name": "stdout",
     "output_type": "stream",
     "text": [
      "**********\n"
     ]
    }
   ],
   "source": [
    "  println(\n",
    "    \"*\" * x\n",
    "  )"
   ]
  },
  {
   "cell_type": "code",
   "execution_count": 3,
   "metadata": {},
   "outputs": [
    {
     "data": {
      "text/plain": [
       "\u001b[36mdata\u001b[39m: \u001b[32mString\u001b[39m = \u001b[32m\"111\"\u001b[39m\n",
       "\u001b[36msameCharAll\u001b[39m: \u001b[32mString\u001b[39m => \u001b[32mBoolean\u001b[39m = ammonite.$sess.cmd2$Helper$$Lambda$2471/299469203@63f8bd81\n",
       "\u001b[36mres\u001b[39m: \u001b[32mString\u001b[39m = \u001b[32m\"Yes\"\u001b[39m"
      ]
     },
     "execution_count": 3,
     "metadata": {},
     "output_type": "execute_result"
    }
   ],
   "source": [
    "  val data = \"11 1\".replaceAll(\" \", \"\")\n",
    "\n",
    "  val sameCharAll = (s: String) => s.count(_ == s.headOption.getOrElse(\"\")) == s.length\n",
    "\n",
    "  val res = if (sameCharAll(data)) \"Yes\" else \"No\""
   ]
  },
  {
   "cell_type": "code",
   "execution_count": 4,
   "metadata": {},
   "outputs": [
    {
     "data": {
      "text/plain": [
       "\u001b[36mcharge\u001b[39m: (\u001b[32mInt\u001b[39m, \u001b[32mInt\u001b[39m, \u001b[32mInt\u001b[39m) => \u001b[32mInt\u001b[39m => \u001b[32mInt\u001b[39m = ammonite.$sess.cmd3$Helper$$Lambda$2488/1331049039@222e2b4f\n",
       "\u001b[36mdeliveryCharge\u001b[39m: \u001b[32mInt\u001b[39m => \u001b[32mInt\u001b[39m = ammonite.$sess.cmd3$Helper$$Lambda$2489/382067670@314fe15d"
      ]
     },
     "execution_count": 4,
     "metadata": {},
     "output_type": "execute_result"
    }
   ],
   "source": [
    "  val charge = (kg: Int, unit: Int, limitPrice: Int) => (v: Int) => if (v < kg) limitPrice else v * unit\n",
    "\n",
    "  val deliveryCharge = charge(10, 150, 100)"
   ]
  },
  {
   "cell_type": "code",
   "execution_count": 5,
   "metadata": {},
   "outputs": [
    {
     "data": {
      "text/plain": [
       "\u001b[36mlogic\u001b[39m: \u001b[32mInt\u001b[39m => \u001b[32mString\u001b[39m = ammonite.$sess.cmd4$Helper$$Lambda$2500/1309546997@40369143"
      ]
     },
     "execution_count": 5,
     "metadata": {},
     "output_type": "execute_result"
    }
   ],
   "source": [
    "  val logic = (x: Int) => if (x >= 5) \"yes\" else \"no\""
   ]
  },
  {
   "cell_type": "code",
   "execution_count": 6,
   "metadata": {},
   "outputs": [
    {
     "data": {
      "text/plain": [
       "\u001b[36mjoin\u001b[39m: \u001b[32mList\u001b[39m[\u001b[32mString\u001b[39m] => \u001b[32mString\u001b[39m = ammonite.$sess.cmd5$Helper$$Lambda$2513/1355393803@3e964fb"
      ]
     },
     "execution_count": 6,
     "metadata": {},
     "output_type": "execute_result"
    }
   ],
   "source": [
    " val join = (xs: List[String]) => xs.foldLeft(\"\")((a, r) => {\n",
    "    a + r\n",
    "  })"
   ]
  },
  {
   "cell_type": "markdown",
   "metadata": {
    "slideshow": {
     "slide_type": "notes"
    },
    "toc-hr-collapsed": true
   },
   "source": [
    "## CheckDigit"
   ]
  },
  {
   "cell_type": "code",
   "execution_count": 8,
   "metadata": {},
   "outputs": [
    {
     "name": "stdout",
     "output_type": "stream",
     "text": [
      "7\n"
     ]
    }
   ],
   "source": [
    "datas.foreach(v => println(checkDigit(v, 0)))"
   ]
  },
  {
   "cell_type": "code",
   "execution_count": 9,
   "metadata": {},
   "outputs": [
    {
     "data": {
      "text/plain": [
       "\u001b[36mres8\u001b[39m: \u001b[32mSeq\u001b[39m[\u001b[32mInt\u001b[39m] = \u001b[33mList\u001b[39m(\n",
       "  \u001b[32m100\u001b[39m,\n",
       "  \u001b[32m100\u001b[39m,\n",
       "  \u001b[32m100\u001b[39m,\n",
       "  \u001b[32m100\u001b[39m,\n",
       "  \u001b[32m100\u001b[39m,\n",
       "  \u001b[32m100\u001b[39m,\n",
       "  \u001b[32m100\u001b[39m,\n",
       "  \u001b[32m100\u001b[39m,\n",
       "  \u001b[32m100\u001b[39m,\n",
       "  \u001b[32m100\u001b[39m,\n",
       "  \u001b[32m100\u001b[39m,\n",
       "  \u001b[32m100\u001b[39m,\n",
       "  \u001b[32m100\u001b[39m,\n",
       "  \u001b[32m100\u001b[39m,\n",
       "  \u001b[32m100\u001b[39m,\n",
       "  \u001b[32m100\u001b[39m,\n",
       "  \u001b[32m100\u001b[39m,\n",
       "  \u001b[32m100\u001b[39m,\n",
       "  \u001b[32m100\u001b[39m,\n",
       "  \u001b[32m100\u001b[39m\n",
       ")"
      ]
     },
     "execution_count": 9,
     "metadata": {},
     "output_type": "execute_result"
    }
   ],
   "source": [
    "Seq.fill(20)(100)"
   ]
  },
  {
   "cell_type": "code",
   "execution_count": 14,
   "metadata": {},
   "outputs": [
    {
     "data": {
      "text/plain": [
       "defined \u001b[32mfunction\u001b[39m \u001b[36mpyramid\u001b[39m\n",
       "\u001b[36mres13_1\u001b[39m: \u001b[32mInt\u001b[39m = \u001b[32m500500\u001b[39m"
      ]
     },
     "execution_count": 14,
     "metadata": {},
     "output_type": "execute_result"
    }
   ],
   "source": [
    "  def pyramid  = (i: Int) => (1 to i).foldLeft(0)((x, y) =>x + y)\n",
    "  \n",
    "  pyramid(1000)"
   ]
  },
  {
   "cell_type": "code",
   "execution_count": 15,
   "metadata": {},
   "outputs": [
    {
     "data": {
      "text/plain": [
       "\u001b[36mres14_0\u001b[39m: \u001b[32mString\u001b[39m = \u001b[32m\"200.0\"\u001b[39m\n",
       "defined \u001b[32mfunction\u001b[39m \u001b[36maverage\u001b[39m"
      ]
     },
     "execution_count": 15,
     "metadata": {},
     "output_type": "execute_result"
    }
   ],
   "source": [
    "  \"%4.1f\".format(average(List(100,200,300)))\n",
    "  \n",
    "  def average(list: List[Double]): Double = list match {\n",
    "    case x :: xs => xs.foldLeft((x, 1.0)) {(avg, cur) =>\n",
    "      ((avg._1 * avg._2 + cur) / (avg._2 + 1.0), avg._2 + 1.0)\n",
    "    }._1\n",
    "    case Nil => throw new IllegalArgumentException\n",
    "  }"
   ]
  },
  {
   "cell_type": "code",
   "execution_count": 17,
   "metadata": {},
   "outputs": [
    {
     "data": {
      "text/plain": [
       "\u001b[36mres\u001b[39m: \u001b[32mBoolean\u001b[39m = true\n",
       "defined \u001b[32mclass\u001b[39m \u001b[36mBooleanConversion\u001b[39m\n",
       "\u001b[36mres16_2\u001b[39m: \u001b[32mString\u001b[39m = \u001b[32m\"OK\"\u001b[39m"
      ]
     },
     "execution_count": 17,
     "metadata": {},
     "output_type": "execute_result"
    }
   ],
   "source": [
    "\n",
    "  val res = \"ABBBBBB\".foldLeft((data.head, false)){(acc, r) => {\n",
    "    if (acc._2 == false && acc._1 != r) {\n",
    "      (r, true)\n",
    "    } else (r, acc._2)\n",
    "  }}._2\n",
    "\n",
    "  implicit class BooleanConversion(b: Boolean) {\n",
    "    def bool2StrOKNG = if (b) \"OK\" else \"NG\"\n",
    "  }\n",
    "\n",
    "  res.bool2StrOKNG"
   ]
  },
  {
   "cell_type": "code",
   "execution_count": 19,
   "metadata": {},
   "outputs": [
    {
     "data": {
      "text/plain": [
       "\u001b[36mcharge\u001b[39m: (\u001b[32mInt\u001b[39m, \u001b[32mInt\u001b[39m, \u001b[32mInt\u001b[39m) => \u001b[32mInt\u001b[39m => \u001b[32mInt\u001b[39m = ammonite.$sess.cmd18$Helper$$Lambda$2824/880590360@2a1e7494\n",
       "\u001b[36mdeliveryCharge\u001b[39m: \u001b[32mInt\u001b[39m => \u001b[32mInt\u001b[39m = ammonite.$sess.cmd18$Helper$$Lambda$2825/1391059208@6469f191\n",
       "\u001b[36mres18_2\u001b[39m: \u001b[32mInt\u001b[39m = \u001b[32m150000\u001b[39m"
      ]
     },
     "execution_count": 19,
     "metadata": {},
     "output_type": "execute_result"
    }
   ],
   "source": [
    "  val charge = (kg: Int, unit: Int, limitPrice: Int) => (v: Int) => if (v < kg) limitPrice else v * unit\n",
    "\n",
    "  val deliveryCharge = charge(10, 150, 100)\n",
    "  deliveryCharge(1000)"
   ]
  },
  {
   "cell_type": "code",
   "execution_count": null,
   "metadata": {},
   "outputs": [],
   "source": []
  },
  {
   "cell_type": "code",
   "execution_count": 12,
   "metadata": {},
   "outputs": [
    {
     "data": {
      "text/plain": [
       "defined \u001b[32mfunction\u001b[39m \u001b[36mrechargeTime\u001b[39m\n",
       "\u001b[36mres11_1\u001b[39m: \u001b[32mInt\u001b[39m = \u001b[32m30\u001b[39m"
      ]
     },
     "execution_count": 12,
     "metadata": {},
     "output_type": "execute_result"
    }
   ],
   "source": [
    "  def rechargeTime = (x: Int) => 100 - x\n",
    "\n",
    "  rechargeTime(70)"
   ]
  },
  {
   "cell_type": "markdown",
   "metadata": {
    "toc-hr-collapsed": false
   },
   "source": [
    "## C\n"
   ]
  },
  {
   "cell_type": "code",
   "execution_count": 20,
   "metadata": {},
   "outputs": [
    {
     "name": "stdout",
     "output_type": "stream",
     "text": [
      "7\n"
     ]
    },
    {
     "data": {
      "text/plain": [
       "\u001b[36mdatas\u001b[39m: \u001b[32mList\u001b[39m[\u001b[32mString\u001b[39m] = \u001b[33mList\u001b[39m(\u001b[32m\"091180422478189X\"\u001b[39m)\n",
       "defined \u001b[32mfunction\u001b[39m \u001b[36mdouble2Single\u001b[39m\n",
       "defined \u001b[32mfunction\u001b[39m \u001b[36mcheckDigit\u001b[39m"
      ]
     },
     "execution_count": 20,
     "metadata": {},
     "output_type": "execute_result"
    }
   ],
   "source": [
    "\n",
    "//  val lines = io.Source.stdin.getLines().toList\n",
    "//  val datas = lines.tail\n",
    "  val datas = List(\"091180422478189X\")\n",
    "\n",
    "  private def double2Single(num: Int): Int = {\n",
    "    val dbl = num * 2\n",
    "    if (dbl >= 10) {\n",
    "      val v1 = dbl.toString.charAt(1).toString.toInt\n",
    "      val v2 = dbl.toString.charAt(0).toString.toInt\n",
    "      v1 + v2\n",
    "    } else dbl\n",
    "  }\n",
    "\n",
    "  def checkDigit(number: String, idx: Int):Int =  {\n",
    "    if (idx >= 10) -1\n",
    "    else {\n",
    "      val ns = number.replaceAll(\"X\", idx.toString)\n",
    "\n",
    "      val even = ns.seq.map(_.toString.toInt).filter(_ % 2 == 0).map(double2Single).sum\n",
    "      val odd = ns.seq.map(_.toString.toInt).filter(_ % 2 != 0).sum\n",
    "\n",
    "      if ((even + odd) % 10 == 0) idx else checkDigit(number, idx + 1)\n",
    "    }\n",
    "  }\n",
    "\n",
    "  datas.foreach(v => println(checkDigit(v, 0)))\n"
   ]
  },
  {
   "cell_type": "code",
   "execution_count": 8,
   "metadata": {},
   "outputs": [
    {
     "data": {
      "text/plain": [
       "\u001b[32mimport \u001b[39m\u001b[36mjava.nio.charset.CodingErrorAction\n",
       "\u001b[39m\n",
       "\u001b[32mimport \u001b[39m\u001b[36mscala.io.Codec\n",
       "\u001b[39m\n",
       "\u001b[32mimport \u001b[39m\u001b[36mscala.io.Source\n",
       "// Handle character encoding issues:\n",
       "\u001b[39m\n",
       "\u001b[36mPath\u001b[39m: \u001b[32mString\u001b[39m = \u001b[32m\"/Users/k22/Develop/Scala/ml-100k/u.item\"\u001b[39m\n",
       "\u001b[36mmovieNames\u001b[39m: \u001b[32mMap\u001b[39m[\u001b[32mInt\u001b[39m, \u001b[32mString\u001b[39m] = \u001b[33mMap\u001b[39m()\n",
       "defined \u001b[32mfunction\u001b[39m \u001b[36mloadMovieNames\u001b[39m"
      ]
     },
     "execution_count": 8,
     "metadata": {},
     "output_type": "execute_result"
    }
   ],
   "source": [
    "import java.nio.charset.CodingErrorAction\n",
    "import scala.io.Codec\n",
    "import scala.io.Source\n",
    "// Handle character encoding issues:\n",
    "val Path = \"/Users/k22/Develop/Scala/ml-100k/u.item\"\n",
    "var movieNames:Map[Int, String] = Map()\n",
    "def loadMovieNames(path: String) : Map[Int, String] = {\n",
    "\n",
    "  // Handle character encoding issues:\n",
    "  implicit val codec = Codec(\"UTF-8\")\n",
    "  codec.onMalformedInput(CodingErrorAction.REPLACE)\n",
    "  codec.onUnmappableCharacter(CodingErrorAction.REPLACE)\n",
    "\n",
    "  // Create a Map of Ints to Strings, and populate it from u.item.\n",
    "  var movieNames:Map[Int, String] = Map()\n",
    "\n",
    "  val lines = Source.fromFile(path).getLines()\n",
    "  for (line <- lines) {\n",
    "    line.split('|') match {\n",
    "      case Array(a, b, _*) => movieNames += (a.toInt -> b)\n",
    "      case _ =>\n",
    "    }\n",
    "  }\n",
    "  movieNames\n",
    "}"
   ]
  },
  {
   "cell_type": "code",
   "execution_count": null,
   "metadata": {},
   "outputs": [
    {
     "name": "stderr",
     "output_type": "stream",
     "text": [
      "cmd0.sc:1: not found: value loadMovieNames\n",
      "val res0 = loadMovieNames(Path).size\n",
      "           ^cmd0.sc:1: not found: value Path\n",
      "val res0 = loadMovieNames(Path).size\n",
      "                          ^Compilation Failed"
     ]
    },
    {
     "ename": "",
     "evalue": "",
     "output_type": "error",
     "traceback": [
      "Compilation Failed"
     ]
    }
   ],
   "source": [
    "loadMovieNames(Path).size"
   ]
  },
  {
   "cell_type": "markdown",
   "metadata": {},
   "source": [
    "## Option"
   ]
  },
  {
   "cell_type": "code",
   "execution_count": 1,
   "metadata": {},
   "outputs": [
    {
     "data": {
      "text/plain": [
       "\u001b[36mmap\u001b[39m: \u001b[32mMap\u001b[39m[\u001b[32mInt\u001b[39m, \u001b[32mString\u001b[39m] = \u001b[33mMap\u001b[39m(\n",
       "  \u001b[32m1\u001b[39m -> \u001b[32m\"Moses\"\u001b[39m,\n",
       "  \u001b[32m2\u001b[39m -> \u001b[32m\"Lucas\"\u001b[39m,\n",
       "  \u001b[32m3\u001b[39m -> \u001b[32m\"Henderson\"\u001b[39m,\n",
       "  \u001b[32m5\u001b[39m -> \u001b[32mnull\u001b[39m\n",
       ")"
      ]
     },
     "execution_count": 1,
     "metadata": {},
     "output_type": "execute_result"
    }
   ],
   "source": [
    "val map = Map(1 -> \"Moses\", 2 -> \"Lucas\", 3 -> \"Henderson\", 5 -> null)"
   ]
  },
  {
   "cell_type": "code",
   "execution_count": 3,
   "metadata": {},
   "outputs": [
    {
     "data": {
      "text/plain": [
       "\u001b[36mres2_0\u001b[39m: \u001b[32mOption\u001b[39m[\u001b[32mString\u001b[39m] = \u001b[33mSome\u001b[39m(\u001b[32m\"Moses\"\u001b[39m)\n",
       "\u001b[36mres2_1\u001b[39m: \u001b[32mOption\u001b[39m[\u001b[32mString\u001b[39m] = \u001b[33mSome\u001b[39m(\u001b[32m\"Henderson\"\u001b[39m)\n",
       "\u001b[36mres2_2\u001b[39m: \u001b[32mOption\u001b[39m[\u001b[32mString\u001b[39m] = \u001b[32mNone\u001b[39m\n",
       "\u001b[36mres2_3\u001b[39m: \u001b[32mOption\u001b[39m[\u001b[32mString\u001b[39m] = \u001b[33mSome\u001b[39m(\u001b[32mnull\u001b[39m)"
      ]
     },
     "execution_count": 3,
     "metadata": {},
     "output_type": "execute_result"
    }
   ],
   "source": [
    "map get 1\n",
    "map get 3\n",
    "map get 4\n",
    "map get 5"
   ]
  },
  {
   "cell_type": "code",
   "execution_count": null,
   "metadata": {},
   "outputs": [],
   "source": []
  }
 ],
 "metadata": {
  "kernelspec": {
   "display_name": "Scala",
   "language": "scala",
   "name": "scala"
  },
  "language_info": {
   "codemirror_mode": "text/x-scala",
   "file_extension": ".scala",
   "mimetype": "text/x-scala",
   "name": "scala",
   "nbconvert_exporter": "script",
   "version": "2.12.8"
  },
  "toc-showmarkdowntxt": false
 },
 "nbformat": 4,
 "nbformat_minor": 2
}
