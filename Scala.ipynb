{
 "cells": [
  {
   "cell_type": "code",
   "execution_count": 1,
   "metadata": {},
   "outputs": [
    {
     "data": {
      "text/plain": [
       "defined \u001b[32mobject\u001b[39m \u001b[36mMmlAlnApp\u001b[39m"
      ]
     },
     "execution_count": 1,
     "metadata": {},
     "output_type": "execute_result"
    }
   ],
   "source": [
    "object MmlAlnApp {\n",
    "  val usage = \"\"\"\n",
    "    Usage: mmlaln [--min-size num] [--max-size num] filename\n",
    "  \"\"\"\n",
    "  def main(args: Array[String]) {\n",
    "    if (args.length == 0) println(usage)\n",
    "    val arglist = args.toList\n",
    "    type OptionMap = Map[Symbol, Any]\n",
    "\n",
    "    def nextOption(map : OptionMap, list: List[String]) : OptionMap = {\n",
    "      def isSwitch(s : String) = (s(0) == '-')\n",
    "      list match {\n",
    "        case Nil => map\n",
    "        case \"--max-size\" :: value :: tail =>\n",
    "                               nextOption(map ++ Map('maxsize -> value.toInt), tail)\n",
    "        case \"--min-size\" :: value :: tail =>\n",
    "                               nextOption(map ++ Map('minsize -> value.toInt), tail)\n",
    "        case string :: opt2 :: tail if isSwitch(opt2) => \n",
    "                               nextOption(map ++ Map('infile -> string), list.tail)\n",
    "        case string :: Nil =>  nextOption(map ++ Map('infile -> string), list.tail)\n",
    "        case option :: tail => println(\"Unknown option \"+option) \n",
    "                               exit(1) \n",
    "      }\n",
    "    }\n",
    "    val options = nextOption(Map(),arglist)\n",
    "    println(options)\n",
    "  }\n",
    "}"
   ]
  },
  {
   "cell_type": "code",
   "execution_count": 2,
   "metadata": {},
   "outputs": [
    {
     "name": "stdout",
     "output_type": "stream",
     "text": [
      "Map('maxsize -> 10)\n"
     ]
    }
   ],
   "source": [
    "MmlAlnApp.main(Array(\"--max-size\", \"10\"))"
   ]
  },
  {
   "cell_type": "code",
   "execution_count": 2,
   "metadata": {},
   "outputs": [
    {
     "name": "stderr",
     "output_type": "stream",
     "text": [
      "cmd2.sc:1: object Try is not a member of package ammonite.util\n",
      "val movieId = Option(null).map(util.Try(_.toInt).isSuccess).getOrElse(1654)\n",
      "                                    ^Compilation Failed"
     ]
    },
    {
     "ename": "",
     "evalue": "",
     "output_type": "error",
     "traceback": [
      "Compilation Failed"
     ]
    }
   ],
   "source": [
    "val movieId = Option(null).map(util.Try(_.toInt).isSuccess).getOrElse(1654)"
   ]
  }
 ],
 "metadata": {
  "kernelspec": {
   "display_name": "Scala",
   "language": "scala",
   "name": "scala"
  },
  "language_info": {
   "codemirror_mode": "text/x-scala",
   "file_extension": ".scala",
   "mimetype": "text/x-scala",
   "name": "scala",
   "nbconvert_exporter": "script",
   "version": "2.12.8"
  }
 },
 "nbformat": 4,
 "nbformat_minor": 2
}
