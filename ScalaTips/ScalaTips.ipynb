{
 "cells": [
  {
   "cell_type": "markdown",
   "metadata": {},
   "source": [
    "## Scala で FizzBuzz"
   ]
  },
  {
   "cell_type": "code",
   "execution_count": 2,
   "metadata": {},
   "outputs": [
    {
     "data": {
      "text/plain": [
       "defined \u001b[32mfunction\u001b[39m \u001b[36mfizzbuzz\u001b[39m"
      ]
     },
     "execution_count": 2,
     "metadata": {},
     "output_type": "execute_result"
    }
   ],
   "source": [
    "def fizzbuzz(n: Int) = {\n",
    "  1 to n\n",
    "} filter {\n",
    "  n => true //n % 2 == 0\n",
    "} map {\n",
    "  case n if n % 15 ==0 => \"FizzBuzz\"\n",
    "  case n if n % 3 ==0 => \"Fizz\"\n",
    "  case n if n % 5 ==0 => \"Buzz\"\n",
    "  case n => n.toString\n",
    "} foreach {\n",
    "  println _\n",
    "}"
   ]
  },
  {
   "cell_type": "code",
   "execution_count": 3,
   "metadata": {},
   "outputs": [
    {
     "name": "stdout",
     "output_type": "stream",
     "text": [
      "1\n",
      "2\n",
      "Fizz\n",
      "4\n",
      "Buzz\n",
      "Fizz\n",
      "7\n",
      "8\n",
      "Fizz\n",
      "Buzz\n",
      "11\n",
      "Fizz\n",
      "13\n",
      "14\n",
      "FizzBuzz\n"
     ]
    }
   ],
   "source": [
    "fizzbuzz(15)"
   ]
  },
  {
   "cell_type": "code",
   "execution_count": 4,
   "metadata": {},
   "outputs": [
    {
     "data": {
      "text/plain": [
       "defined \u001b[32mfunction\u001b[39m \u001b[36mfizzbuzz2\u001b[39m"
      ]
     },
     "execution_count": 4,
     "metadata": {},
     "output_type": "execute_result"
    }
   ],
   "source": [
    "def fizzbuzz2(n: Int) = {\n",
    "  val fizzbuzz = (1 to n).map { i =>\n",
    "    (i % 3, i % 5) match {\n",
    "      case (0, 0) => \"FizzBuzz\"\n",
    "      case (0, _) => \"Fizz\"\n",
    "      case (_, 0) => \"Buzz\"\n",
    "      case _ => i.toString\n",
    "    }\n",
    "  } foreach {\n",
    "    println _\n",
    "  }\n",
    "}"
   ]
  },
  {
   "cell_type": "code",
   "execution_count": 5,
   "metadata": {},
   "outputs": [
    {
     "name": "stdout",
     "output_type": "stream",
     "text": [
      "1\n",
      "2\n",
      "Fizz\n",
      "4\n",
      "Buzz\n",
      "Fizz\n",
      "7\n",
      "8\n",
      "Fizz\n",
      "Buzz\n",
      "11\n",
      "Fizz\n",
      "13\n",
      "14\n",
      "FizzBuzz\n"
     ]
    }
   ],
   "source": [
    "fizzbuzz2(15)"
   ]
  },
  {
   "cell_type": "markdown",
   "metadata": {},
   "source": [
    "## コンパニオンオブジェクト"
   ]
  },
  {
   "cell_type": "code",
   "execution_count": 6,
   "metadata": {},
   "outputs": [
    {
     "data": {
      "text/plain": [
       "defined \u001b[32mobject\u001b[39m \u001b[36mURL\u001b[39m\n",
       "defined \u001b[32mclass\u001b[39m \u001b[36mURL\u001b[39m"
      ]
     },
     "execution_count": 6,
     "metadata": {},
     "output_type": "execute_result"
    }
   ],
   "source": [
    "object URL {\n",
    "  def apply(url: String) = new URL(url)\n",
    "}\n",
    "class URL(url: String) {\n",
    "  def scheme = url.split(\":\").head\n",
    "  def hostname = url.split(\"/\").toList.tail.dropWhile(_ == \"\").head\n",
    "  def pathinfo = url.split(\"/\").toList.tail.dropWhile(_ == \"\").tail\n",
    "}"
   ]
  },
  {
   "cell_type": "code",
   "execution_count": 10,
   "metadata": {},
   "outputs": [
    {
     "data": {
      "text/plain": [
       "\u001b[36mres9_0\u001b[39m: \u001b[32mString\u001b[39m = \u001b[32m\"ssh\"\u001b[39m\n",
       "\u001b[36mres9_1\u001b[39m: \u001b[32mString\u001b[39m = \u001b[32m\"aaa\"\u001b[39m\n",
       "\u001b[36mres9_2\u001b[39m: \u001b[32mList\u001b[39m[\u001b[32mString\u001b[39m] = \u001b[33mList\u001b[39m(\u001b[32m\"bbb\"\u001b[39m, \u001b[32m\"ccc\"\u001b[39m)"
      ]
     },
     "execution_count": 10,
     "metadata": {},
     "output_type": "execute_result"
    }
   ],
   "source": [
    "URL(\"ssh://aaa/bbb/ccc\").scheme\n",
    "URL(\"ssh://aaa/bbb/ccc\").hostname\n",
    "URL(\"ssh://aaa/bbb/ccc\").pathinfo"
   ]
  },
  {
   "cell_type": "code",
   "execution_count": 14,
   "metadata": {},
   "outputs": [
    {
     "data": {
      "text/plain": [
       "\u001b[36mhead\u001b[39m: \u001b[32mString\u001b[39m = \u001b[32m\"Scala\"\u001b[39m\n",
       "\u001b[36mpower\u001b[39m: \u001b[32mString\u001b[39m = \u001b[32m\"(Scala,Apache Spark)(Scala,AWS EMR)(Scala,AWS S3)(Scala,AWS DynamoDB)\"\u001b[39m"
      ]
     },
     "execution_count": 14,
     "metadata": {},
     "output_type": "execute_result"
    }
   ],
   "source": [
    "val head = \"Scala Advanced Cource\".split(\" \").toList.head\n",
    "val power = {\n",
    " Seq(\n",
    "   \"Apache Spark\",\n",
    "   \"AWS EMR\",\n",
    "   \"AWS S3\",\n",
    "   \"AWS DynamoDB\"\n",
    " ).flatMap(v => Map(head -> v))\n",
    "}.mkString\n",
    "// ElasticsSearch -> Kibana -> ..."
   ]
  },
  {
   "cell_type": "code",
   "execution_count": 1,
   "metadata": {},
   "outputs": [
    {
     "data": {
      "text/plain": [
       "\u001b[36mres0\u001b[39m: \u001b[32mList\u001b[39m[(\u001b[32mInt\u001b[39m, \u001b[32mSymbol\u001b[39m)] = \u001b[33mList\u001b[39m((\u001b[32m1\u001b[39m, \u001b[32m'a\u001b[39m), (\u001b[32m2\u001b[39m, \u001b[32m'b\u001b[39m), (\u001b[32m3\u001b[39m, \u001b[32m'c\u001b[39m))"
      ]
     },
     "execution_count": 1,
     "metadata": {},
     "output_type": "execute_result"
    }
   ],
   "source": [
    "List(1,2,3,4) zip List('a,'b,'c)"
   ]
  },
  {
   "cell_type": "code",
   "execution_count": null,
   "metadata": {},
   "outputs": [],
   "source": []
  }
 ],
 "metadata": {
  "kernelspec": {
   "display_name": "Scala",
   "language": "scala",
   "name": "scala"
  },
  "language_info": {
   "codemirror_mode": "text/x-scala",
   "file_extension": ".scala",
   "mimetype": "text/x-scala",
   "name": "scala",
   "nbconvert_exporter": "script",
   "version": "2.12.8"
  }
 },
 "nbformat": 4,
 "nbformat_minor": 2
}
