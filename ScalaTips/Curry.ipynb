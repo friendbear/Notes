{
 "cells": [
  {
   "cell_type": "markdown",
   "metadata": {},
   "source": [
    "## Curry\n",
    "\n",
    "Try Lambda => FunctionX Implimentation\n",
    "OK"
   ]
  },
  {
   "cell_type": "code",
   "execution_count": 15,
   "metadata": {},
   "outputs": [
    {
     "name": "stdout",
     "output_type": "stream",
     "text": [
      "20\n",
      "20\n",
      "20\n",
      "21\n",
      "14\n",
      "18\n"
     ]
    },
    {
     "data": {
      "text/plain": [
       "defined \u001b[32mfunction\u001b[39m \u001b[36mtoCurry\u001b[39m\n",
       "defined \u001b[32mfunction\u001b[39m \u001b[36mtoCurryFunction\u001b[39m\n",
       "defined \u001b[32mfunction\u001b[39m \u001b[36mfromCurry\u001b[39m\n",
       "\u001b[36msuperAdderBeforeFunction\u001b[39m: \u001b[32mInt\u001b[39m => \u001b[32mInt\u001b[39m => \u001b[32mInt\u001b[39m = ammonite.$sess.cmd14$Helper$$Lambda$3315/1216979373@740dc9d6\n",
       "\u001b[36msuperAdderFunction\u001b[39m: \u001b[32mInt\u001b[39m => \u001b[32mInt\u001b[39m => \u001b[32mInt\u001b[39m = <function1>\n",
       "defined \u001b[32mfunction\u001b[39m \u001b[36mcompose\u001b[39m\n",
       "defined \u001b[32mfunction\u001b[39m \u001b[36mandThen\u001b[39m\n",
       "defined \u001b[32mfunction\u001b[39m \u001b[36msuperAdder2\u001b[39m\n",
       "defined \u001b[32mfunction\u001b[39m \u001b[36madd4\u001b[39m\n",
       "defined \u001b[32mfunction\u001b[39m \u001b[36mfun\u001b[39m\n",
       "\u001b[36msimpleAdd\u001b[39m: \u001b[32mInt\u001b[39m => \u001b[32mInt\u001b[39m => \u001b[32mInt\u001b[39m = ammonite.$sess.cmd14$Helper$$Lambda$3317/351807544@24f11d27\n",
       "\u001b[36msimpleAddFunction\u001b[39m: \u001b[32mInt\u001b[39m => \u001b[32mInt\u001b[39m => \u001b[32mInt\u001b[39m = <function1>\n",
       "\u001b[36msimpleAdder\u001b[39m: (\u001b[32mInt\u001b[39m, \u001b[32mInt\u001b[39m) => \u001b[32mInt\u001b[39m = ammonite.$sess.cmd14$Helper$$Lambda$3321/599542697@491b012c\n",
       "\u001b[36madd2\u001b[39m: \u001b[32mInt\u001b[39m => \u001b[32mInt\u001b[39m = ammonite.$sess.cmd14$Helper$$Lambda$3322/736291779@4339b48c\n",
       "\u001b[36mtimes3\u001b[39m: \u001b[32mInt\u001b[39m => \u001b[32mInt\u001b[39m = ammonite.$sess.cmd14$Helper$$Lambda$3323/754575663@34ea13f\n",
       "\u001b[36mcomposed\u001b[39m: \u001b[32mInt\u001b[39m => \u001b[32mInt\u001b[39m = ammonite.$sess.cmd14$Helper$$Lambda$3324/1526371727@2f1410ac\n",
       "\u001b[36mordered\u001b[39m: \u001b[32mInt\u001b[39m => \u001b[32mInt\u001b[39m = ammonite.$sess.cmd14$Helper$$Lambda$3325/467299450@77852937"
      ]
     },
     "execution_count": 15,
     "metadata": {},
     "output_type": "execute_result"
    }
   ],
   "source": [
    "  // 2. toCurry\n",
    "  def toCurry[A, B, C](f: (A, B) => C): (A => B => C) =\n",
    "    x => y => f(x, y)\n",
    "\n",
    "  // toCurry by Function\n",
    "  def toCurryFunction[A, B >: A, C >: A](f: Function2[A, B, C]): Function1[A, Function1[B, C]] = new Function1[A, Function1[B, C]]{\n",
    "    override def apply(x: A): Function1[B, C] = new Function1[B, C] {\n",
    "      override def apply(y: B): C = {\n",
    "        f(x, y)\n",
    "      }\n",
    "    }\n",
    "  }\n",
    "\n",
    "  def fromCurry(f: (Int => Int => Int)): (Int, Int) => Int =\n",
    "    (x, y) => f(x)(y)\n",
    "\n",
    "\n",
    "  val superAdderBeforeFunction: Int => (Int => Int) = (x: Int) => (y: Int) => x + y\n",
    "  val superAdderFunction: Function1[Int, Function1[Int, Int]] = new Function1[Int, Function1[Int, Int]]{\n",
    "    override def apply(x: Int): Function1[Int, Int] = new Function1[Int, Int] {\n",
    "      override def apply(y: Int): Int = x + y\n",
    "    }\n",
    "  }\n",
    "\n",
    "  // 3. compose andThen\n",
    "  // FunctionX\n",
    "  def compose[A, B, T](f: A => B, g: T => A): T => B =\n",
    "    x => f(g(x))\n",
    "\n",
    "  def andThen[A, B, C](f: A => B, g: B => C): A => C =\n",
    "    x => g(f(x))\n",
    "\n",
    "  def superAdder2: (Int => Int => Int) = toCurry(_ + _)\n",
    "  def add4 = superAdder2(4)\n",
    "  println(add4(16))\n",
    "\n",
    "  def fun(x: Int,y: Int) = x + y\n",
    "  val simpleAdd = toCurry(fun)\n",
    "  val simpleAddFunction = toCurryFunction(fun)\n",
    "  println(simpleAdd(10)(10))\n",
    "  println(simpleAddFunction(10)(10))\n",
    "\n",
    "  val simpleAdder = fromCurry(superAdder)\n",
    "  println(simpleAdder(4, 17))\n",
    "\n",
    "  val add2 = (x: Int) => x + 2\n",
    "  val times3 = (x: Int) => x * 3\n",
    "\n",
    "  val composed = compose(add2, times3)\n",
    "  val ordered = andThen(add2, times3)\n",
    "\n",
    "  println(composed(4))\n",
    "  println(ordered(4))"
   ]
  },
  {
   "cell_type": "code",
   "execution_count": 12,
   "metadata": {},
   "outputs": [
    {
     "data": {
      "text/plain": [
       "\u001b[36mres11\u001b[39m: \u001b[32mInt\u001b[39m = \u001b[32m14\u001b[39m"
      ]
     },
     "execution_count": 12,
     "metadata": {},
     "output_type": "execute_result"
    }
   ],
   "source": [
    "composed(4)"
   ]
  },
  {
   "cell_type": "code",
   "execution_count": 13,
   "metadata": {},
   "outputs": [
    {
     "data": {
      "text/plain": [
       "\u001b[36mres12\u001b[39m: \u001b[32mInt\u001b[39m = \u001b[32m18\u001b[39m"
      ]
     },
     "execution_count": 13,
     "metadata": {},
     "output_type": "execute_result"
    }
   ],
   "source": [
    "ordered(4)"
   ]
  },
  {
   "cell_type": "markdown",
   "metadata": {},
   "source": [
    "## compose\n",
    "```scala\n",
    "compose(f, g) => x => f(g(x))\n",
    "andThen(f, g) => x => g(f(x))\n",
    "```"
   ]
  }
 ],
 "metadata": {
  "kernelspec": {
   "display_name": "Scala",
   "language": "scala",
   "name": "scala"
  },
  "language_info": {
   "codemirror_mode": "text/x-scala",
   "file_extension": ".scala",
   "mimetype": "text/x-scala",
   "name": "scala",
   "nbconvert_exporter": "script",
   "version": "2.12.8"
  }
 },
 "nbformat": 4,
 "nbformat_minor": 2
}
