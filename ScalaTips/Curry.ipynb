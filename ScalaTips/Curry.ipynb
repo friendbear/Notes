{
 "cells": [
  {
   "cell_type": "markdown",
   "metadata": {},
   "source": [
    "## Curry"
   ]
  },
  {
   "cell_type": "code",
   "execution_count": 10,
   "metadata": {},
   "outputs": [
    {
     "name": "stdout",
     "output_type": "stream",
     "text": [
      "20\n",
      "21\n",
      "14\n",
      "18\n"
     ]
    },
    {
     "data": {
      "text/plain": [
       "\u001b[36msuperAdder\u001b[39m: \u001b[32mInt\u001b[39m => \u001b[32mInt\u001b[39m => \u001b[32mInt\u001b[39m = ammonite.$sess.cmd9$Helper$$Lambda$3074/1931001862@3a92162d\n",
       "defined \u001b[32mfunction\u001b[39m \u001b[36mtoCurryTypeInt\u001b[39m\n",
       "defined \u001b[32mfunction\u001b[39m \u001b[36mfromCurryTypeInt\u001b[39m\n",
       "defined \u001b[32mfunction\u001b[39m \u001b[36mtoCurry\u001b[39m\n",
       "defined \u001b[32mfunction\u001b[39m \u001b[36mfromCurry\u001b[39m\n",
       "defined \u001b[32mfunction\u001b[39m \u001b[36mcompose\u001b[39m\n",
       "defined \u001b[32mfunction\u001b[39m \u001b[36mandThen\u001b[39m\n",
       "defined \u001b[32mfunction\u001b[39m \u001b[36msuperAdder2\u001b[39m\n",
       "defined \u001b[32mfunction\u001b[39m \u001b[36madd4\u001b[39m\n",
       "\u001b[36msimpleAdder\u001b[39m: (\u001b[32mInt\u001b[39m, \u001b[32mInt\u001b[39m) => \u001b[32mInt\u001b[39m = ammonite.$sess.cmd9$Helper$$Lambda$3078/2004091557@117ae535\n",
       "\u001b[36madd2\u001b[39m: \u001b[32mInt\u001b[39m => \u001b[32mInt\u001b[39m = ammonite.$sess.cmd9$Helper$$Lambda$3080/1396182270@6c5b30bd\n",
       "\u001b[36mtimes3\u001b[39m: \u001b[32mInt\u001b[39m => \u001b[32mInt\u001b[39m = ammonite.$sess.cmd9$Helper$$Lambda$3081/1593638323@7578c11a\n",
       "\u001b[36mcomposed\u001b[39m: \u001b[32mInt\u001b[39m => \u001b[32mInt\u001b[39m = ammonite.$sess.cmd9$Helper$$Lambda$3082/164281827@14fb2323\n",
       "\u001b[36mordered\u001b[39m: \u001b[32mInt\u001b[39m => \u001b[32mInt\u001b[39m = ammonite.$sess.cmd9$Helper$$Lambda$3083/974625765@4201ce27"
      ]
     },
     "execution_count": 10,
     "metadata": {},
     "output_type": "execute_result"
    }
   ],
   "source": [
    "  // curried functions\n",
    "  val superAdder: Int => (Int => Int) = (x: Int) =>(y: Int) => x + y\n",
    "  // 2. toCurry\n",
    "  def toCurryTypeInt(f: (Int, Int) => Int): (Int => Int => Int) =\n",
    "    x => y => f(x, y)\n",
    "\n",
    "  def fromCurryTypeInt(f: (Int => Int => Int)): (Int, Int) => Int =\n",
    "    (x, y) => f(x)(y)\n",
    "\n",
    "  def toCurry[A, B, C](f: (A, B) => C): (A => B => C) =\n",
    "    x => y => f(x, y)\n",
    "\n",
    "  def fromCurry[A, B, C](f: (A => B => C)): (A, B) => C =\n",
    "    (x, y) => f(x)(y)\n",
    "\n",
    "  // 3. compose andThen\n",
    "  // FunctionX\n",
    "  def compose[A, B, T](f: A => B, g: T => A): T => B =\n",
    "    x => f(g(x))\n",
    "\n",
    "  def andThen[A, B, C](f: A => B, g: B => C): A => C =\n",
    "    x => g(f(x))\n",
    "\n",
    "  def superAdder2: (Int => Int => Int) = toCurry(_ + _)\n",
    "  def add4 = superAdder2(4)\n",
    "  println(add4(16))\n",
    "\n",
    "  val simpleAdder = fromCurry(superAdder)\n",
    "  println(simpleAdder(4, 17))\n",
    "\n",
    "  val add2 = (x: Int) => x + 2\n",
    "  val times3 = (x: Int) => x * 3\n",
    "\n",
    "  val composed = compose(add2, times3)\n",
    "  val ordered = andThen(add2, times3)\n",
    "\n",
    "  println(composed(4))\n",
    "  println(ordered(4))"
   ]
  },
  {
   "cell_type": "code",
   "execution_count": 8,
   "metadata": {},
   "outputs": [
    {
     "data": {
      "text/plain": [
       "\u001b[36mres7\u001b[39m: \u001b[32mInt\u001b[39m = \u001b[32m14\u001b[39m"
      ]
     },
     "execution_count": 8,
     "metadata": {},
     "output_type": "execute_result"
    }
   ],
   "source": [
    "composed(4)"
   ]
  },
  {
   "cell_type": "code",
   "execution_count": 9,
   "metadata": {},
   "outputs": [
    {
     "data": {
      "text/plain": [
       "\u001b[36mres8\u001b[39m: \u001b[32mInt\u001b[39m = \u001b[32m18\u001b[39m"
      ]
     },
     "execution_count": 9,
     "metadata": {},
     "output_type": "execute_result"
    }
   ],
   "source": [
    "ordered(4)"
   ]
  },
  {
   "cell_type": "markdown",
   "metadata": {},
   "source": [
    "## compose\n",
    "```scala\n",
    "compose(f, g) => x => f(g(x))\n",
    "andThen(f, g) => x => g(f(x))\n",
    "```"
   ]
  },
  {
   "cell_type": "code",
   "execution_count": null,
   "metadata": {},
   "outputs": [],
   "source": []
  }
 ],
 "metadata": {
  "kernelspec": {
   "display_name": "Scala",
   "language": "scala",
   "name": "scala"
  },
  "language_info": {
   "codemirror_mode": "text/x-scala",
   "file_extension": ".scala",
   "mimetype": "text/x-scala",
   "name": "scala",
   "nbconvert_exporter": "script",
   "version": "2.12.8"
  }
 },
 "nbformat": 4,
 "nbformat_minor": 2
}
