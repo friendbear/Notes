{
 "cells": [
  {
   "cell_type": "markdown",
   "metadata": {},
   "source": [
    "# Scala Beginner\n",
    "## Method Notations"
   ]
  },
  {
   "cell_type": "code",
   "execution_count": 7,
   "metadata": {},
   "outputs": [
    {
     "data": {
      "text/plain": [
       "defined \u001b[32mclass\u001b[39m \u001b[36mPerson\u001b[39m"
      ]
     },
     "execution_count": 7,
     "metadata": {},
     "output_type": "execute_result"
    }
   ],
   "source": [
    "class Person(val name: String, val favoriteMovie: String,val age: Int = 1) {\n",
    "  def likes(movie: String): Boolean = movie == favoriteMovie\n",
    "  def +(person: Person): String = s\"${this.name} is hanging out with ${person.name}\"\n",
    "  def +(nickname: String): Person = new Person(s\"$name ($nickname)\", favoriteMovie)\n",
    "\n",
    "  def unary_! : String = s\"$name, what the heck?!\"\n",
    "  def unary_+ : Person = new Person(name, favoriteMovie, age + 1)\n",
    "\n",
    "  def isAlive: Boolean = true\n",
    "  def apply(): String = s\"Hi, my name is $name and I like $favoriteMovie\"\n",
    "  def apply(time: Int): String = s\"$name watched Inception $time times\"\n",
    "\n",
    "\n",
    "  def learns(thing: String): String = s\"$name learns $thing\"\n",
    "  def learnsScala = this learns \"Scala\"\n",
    "}"
   ]
  },
  {
   "cell_type": "code",
   "execution_count": 8,
   "metadata": {},
   "outputs": [
    {
     "name": "stdout",
     "output_type": "stream",
     "text": [
      "true\n",
      "true\n",
      "Mary is hanging out with Tom\n",
      "Mary is hanging out with Tom\n",
      "3\n",
      "3\n",
      "Mary, what the heck?!\n",
      "Mary, what the heck?!\n",
      "true\n",
      "true\n",
      "Hi, my name is Mary and I like Inception\n",
      "Hi, my name is Mary and I like Inception\n",
      "ammonite.$sess.cmd6$Helper$Person@2b5d4456\n",
      "Hi, my name is Mary (the rockstar) and I like Inception\n",
      "ammonite.$sess.cmd6$Helper$Person@52d9d8ae\n",
      "2\n",
      "Mary learns Scala\n",
      "Mary watched Inception 2 times\n"
     ]
    },
    {
     "data": {
      "text/plain": [
       "\u001b[36mmary\u001b[39m: \u001b[32mPerson\u001b[39m = ammonite.$sess.cmd6$Helper$Person@33964576\n",
       "\u001b[36mtom\u001b[39m: \u001b[32mPerson\u001b[39m = ammonite.$sess.cmd6$Helper$Person@595f18a1\n",
       "\u001b[36mx\u001b[39m: \u001b[32mInt\u001b[39m = \u001b[32m-1\u001b[39m\n",
       "\u001b[36my\u001b[39m: \u001b[32mInt\u001b[39m = \u001b[32m-1\u001b[39m"
      ]
     },
     "execution_count": 8,
     "metadata": {},
     "output_type": "execute_result"
    }
   ],
   "source": [
    "\n",
    "val mary = new Person(\"Mary\", \"Inception\")\n",
    "println(mary.likes(\"Inception\")) // equivalent\n",
    "println(mary likes \"Inception\")   // equivalent\n",
    "// infix notation = operator notation (syntactic sugar)\n",
    "\n",
    "// \"operators\" in Scala\n",
    "val tom = new Person(\"Tom\", \"Fight Club\")\n",
    "\n",
    "println(mary + tom)\n",
    "println(mary.+(tom))\n",
    "\n",
    "println(1 + 2)\n",
    "println(1.+(2))\n",
    "\n",
    "// ALL OPERATIONS ARE METHODS.\n",
    "// Akka actors have ~ ?\n",
    "\n",
    "// prefix notation\n",
    "val x = -1    // equivalent with 1.unary_\n",
    "val y = 1.unary_-\n",
    "// unary_ prefix onry\n",
    "\n",
    "println(!mary)\n",
    "println(mary.unary_!)\n",
    "\n",
    "// postfix notation\n",
    "println(mary.isAlive)\n",
    "println(mary isAlive)\n",
    "\n",
    "// apply\n",
    "println(mary.apply())\n",
    "println(mary())  // equivalent\n",
    "\n",
    "/*\n",
    " * 1. Overload the + operator\n",
    " * mery + \"the rockstar\" => new Person \"Mary (the rockstar)\"\n",
    " */\n",
    "println(mary + \"the rockstar\")\n",
    "println((mary + \"the rockstar\").apply)\n",
    "println(mary.+(\"the rockstar\"))\n",
    "\n",
    "/*\n",
    " * 2. Add an age to Person class\n",
    " *    Add a unary + operator => new Person with the age + 1\n",
    " *    +mary => marry with the age incrementer\n",
    " */\n",
    "println((+mary).age)\n",
    "\n",
    "/*\n",
    " * 3 Add a \"learns\" method in the Person class => \"Mary learns Scala\"\n",
    " *   Add a learnsScala method, calls learns method with \"Scala\"\n",
    " *   Use it in postfix notation\n",
    " */\n",
    "println(mary learns \"Scala\")\n",
    "\n",
    "/*\n",
    " * Overload the apply method\n",
    " * marry.apply(2) => \"Mary watched Inception 2 times\"\n",
    " */\n",
    "println(mary(2))"
   ]
  },
  {
   "cell_type": "code",
   "execution_count": null,
   "metadata": {},
   "outputs": [],
   "source": []
  }
 ],
 "metadata": {
  "kernelspec": {
   "display_name": "Scala",
   "language": "scala",
   "name": "scala"
  },
  "language_info": {
   "codemirror_mode": "text/x-scala",
   "file_extension": ".scala",
   "mimetype": "text/x-scala",
   "name": "scala",
   "nbconvert_exporter": "script",
   "version": "2.12.8"
  }
 },
 "nbformat": 4,
 "nbformat_minor": 2
}
