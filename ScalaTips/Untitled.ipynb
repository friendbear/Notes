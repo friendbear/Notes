{
 "cells": [
  {
   "cell_type": "markdown",
   "metadata": {},
   "source": [
    "## PartialFunction"
   ]
  },
  {
   "cell_type": "code",
   "execution_count": 13,
   "metadata": {},
   "outputs": [
    {
     "data": {
      "text/plain": [
       "\u001b[36maFunction\u001b[39m: \u001b[32mInt\u001b[39m => \u001b[32mInt\u001b[39m = ammonite.$sess.cmd12$Helper$$Lambda$2849/65523501@4ba3f202\n",
       "\u001b[36maFussyFunction\u001b[39m: \u001b[32mInt\u001b[39m => \u001b[32mAnyVal\u001b[39m = ammonite.$sess.cmd12$Helper$$Lambda$2850/436643364@6a887629\n",
       "\u001b[36maPartialFunction\u001b[39m: \u001b[32mPartialFunction\u001b[39m[\u001b[32mInt\u001b[39m, \u001b[32mInt\u001b[39m] = <function1>\n",
       "\u001b[36mlifted\u001b[39m: \u001b[32mInt\u001b[39m => \u001b[32mOption\u001b[39m[\u001b[32mInt\u001b[39m] = <function1>\n",
       "\u001b[36mpfChain\u001b[39m: \u001b[32mPartialFunction\u001b[39m[\u001b[32mInt\u001b[39m, \u001b[32mInt\u001b[39m] = <function1>\n",
       "\u001b[36maMappedList\u001b[39m: \u001b[32mList\u001b[39m[\u001b[32mInt\u001b[39m] = \u001b[33mList\u001b[39m(\u001b[32m42\u001b[39m, \u001b[32m76\u001b[39m, \u001b[32m1000\u001b[39m)\n",
       "\u001b[36maManualFussyFunction\u001b[39m: \u001b[32mAnyRef\u001b[39m with \u001b[32mPartialFunction\u001b[39m[\u001b[32mInt\u001b[39m, \u001b[32mInt\u001b[39m] = <function1>\n",
       "\u001b[36mchatbot\u001b[39m: \u001b[32mPartialFunction\u001b[39m[\u001b[32mString\u001b[39m, \u001b[32mString\u001b[39m] = <function1>"
      ]
     },
     "execution_count": 13,
     "metadata": {},
     "output_type": "execute_result"
    }
   ],
   "source": [
    "val aFunction = (x: Int) => x + 1 // Function1[Int, Int] === Int => Int\n",
    "\n",
    "val aFussyFunction = (x: Int) => {\n",
    "  if (x == 1) 42\n",
    "  //else throw new FunctionNotApplicableException\n",
    "}\n",
    "\n",
    "// ( 1, 2, 5) => Int\n",
    "\n",
    "// PartialFunction[Int, Int] = Function1(Int): Int\n",
    "val aPartialFunction: PartialFunction[Int, Int] = {\n",
    "  case 1 => 42\n",
    "  case 2 => 56\n",
    "  case 5 => 999\n",
    "}\n",
    "\n",
    "// PF utilities\n",
    "// 結果が戻るかどうかを事前に確認する\n",
    "\n",
    "// lift\n",
    "val lifted = aPartialFunction.lift // Int => Option[Int]\n",
    "\n",
    "// orElseを使った合成処理\n",
    "val pfChain = aPartialFunction.orElse[Int, Int] {\n",
    "  case 45 => 67\n",
    "}\n",
    "\n",
    "\n",
    "val aMappedList = List(1,2,3).map{\n",
    "  case 1 => 42\n",
    "  case 2 => 76\n",
    "  case 3 => 1000\n",
    "}\n",
    "\n",
    "/*\n",
    " * Note: PF can only have ONE Parameter type\n",
    " */\n",
    "/**\n",
    "  * Exercises\n",
    "  * 1 - construct a PF instance yourself (annoymous class)\n",
    "  * 2 - dumb chatbot as a PF\n",
    "  */\n",
    "val aManualFussyFunction = new PartialFunction[Int, Int] {\n",
    "  override def apply(v1: Int): Int = v1 match {\n",
    "    case 1 => 42\n",
    "    case 2 => 65\n",
    "    case 5 => 999\n",
    "  }\n",
    "  override def isDefinedAt(x: Int): Boolean =\n",
    "    x == 1 || x == 2 || x == 5\n",
    "}\n",
    "\n",
    "val chatbot: PartialFunction[String, String] = {\n",
    "  case \"hello\" => \"Hi, my nameis HAL9000\"\n",
    "  case \"goodbye\" => \"Once you start toking\"\n",
    "  case \"call mom\" => \"good morning\"\n",
    "}\n",
    "\n",
    "  // PF をmapすることで、置換もできる\n",
    "//scala.io.Source.stdin.getLines().map(chatbot).foreach(println)"
   ]
  },
  {
   "cell_type": "code",
   "execution_count": 11,
   "metadata": {},
   "outputs": [
    {
     "name": "stdout",
     "output_type": "stream",
     "text": [
      "Some(Hi, my nameis HAL9000)\n"
     ]
    }
   ],
   "source": [
    "List(\"hello\").map(chatbot.lift).foreach(println)"
   ]
  },
  {
   "cell_type": "code",
   "execution_count": 14,
   "metadata": {},
   "outputs": [
    {
     "data": {
      "text/plain": [
       "\u001b[36maCodeBlock\u001b[39m: \u001b[32mString\u001b[39m = \u001b[32m\"hello\"\u001b[39m"
      ]
     },
     "execution_count": 14,
     "metadata": {},
     "output_type": "execute_result"
    }
   ],
   "source": [
    "  val aCodeBlock = {\n",
    "    val y = 2\n",
    "    val z = y + 1\n",
    "\n",
    "    if (z > 2) \"hello\" else \"goodbye\"\n",
    "  }"
   ]
  },
  {
   "cell_type": "code",
   "execution_count": 16,
   "metadata": {},
   "outputs": [
    {
     "data": {
      "text/plain": [
       "\u001b[36margs\u001b[39m: \u001b[32mArray\u001b[39m[\u001b[32mString\u001b[39m] = \u001b[33mArray\u001b[39m(\u001b[32m\"1\"\u001b[39m, \u001b[32m\"/path/to\"\u001b[39m)\n",
       "\u001b[36moParam\u001b[39m: \u001b[32mOption\u001b[39m[(\u001b[32mInt\u001b[39m, \u001b[32mString\u001b[39m)] = \u001b[33mSome\u001b[39m((\u001b[32m1\u001b[39m, \u001b[32m\"/path/to\"\u001b[39m))"
      ]
     },
     "execution_count": 16,
     "metadata": {},
     "output_type": "execute_result"
    }
   ],
   "source": [
    "val args = Array(\"1\", \"/path/to\")\n",
    "  val oParam = for {\n",
    "    arg <- args.headOption\n",
    "    param <- scala.util.Try(arg.toInt).toOption\n",
    "    resultFilePath <- args.tail.headOption\n",
    "  } yield (param, resultFilePath)"
   ]
  },
  {
   "cell_type": "code",
   "execution_count": null,
   "metadata": {},
   "outputs": [],
   "source": []
  }
 ],
 "metadata": {
  "kernelspec": {
   "display_name": "Scala",
   "language": "scala",
   "name": "scala"
  },
  "language_info": {
   "codemirror_mode": "text/x-scala",
   "file_extension": ".scala",
   "mimetype": "text/x-scala",
   "name": "scala",
   "nbconvert_exporter": "script",
   "version": "2.12.8"
  }
 },
 "nbformat": 4,
 "nbformat_minor": 2
}
