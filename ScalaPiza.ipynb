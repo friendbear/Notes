{
 "cells": [
  {
   "cell_type": "code",
   "execution_count": null,
   "metadata": {
    "slideshow": {
     "slide_type": "notes"
    },
    "toc-hr-collapsed": false
   },
   "outputs": [],
   "source": [
    "#### CheckDigit Example"
   ]
  },
  {
   "cell_type": "code",
   "execution_count": 3,
   "metadata": {},
   "outputs": [
    {
     "name": "stdout",
     "output_type": "stream",
     "text": [
      "7\n"
     ]
    },
    {
     "data": {
      "text/plain": [
       "\u001b[36mdatas\u001b[39m: \u001b[32mList\u001b[39m[\u001b[32mString\u001b[39m] = \u001b[33mList\u001b[39m(\u001b[32m\"091180422478189X\"\u001b[39m)\n",
       "defined \u001b[32mfunction\u001b[39m \u001b[36mdouble2Single\u001b[39m\n",
       "defined \u001b[32mfunction\u001b[39m \u001b[36mcheckDigit\u001b[39m"
      ]
     },
     "execution_count": 3,
     "metadata": {},
     "output_type": "execute_result"
    }
   ],
   "source": [
    "\n",
    "//  val lines = io.Source.stdin.getLines().toList\n",
    "//  val datas = lines.tail\n",
    "  val datas = List(\"091180422478189X\")\n",
    "\n",
    "  private def double2Single(num: Int): Int = {\n",
    "    val dbl = num * 2\n",
    "    if (dbl >= 10) {\n",
    "      val v1 = dbl.toString.charAt(1).toString.toInt\n",
    "      val v2 = dbl.toString.charAt(0).toString.toInt\n",
    "      v1 + v2\n",
    "    } else dbl\n",
    "  }\n",
    "\n",
    "  def checkDigit(number: String, idx: Int):Int =  {\n",
    "    if (idx >= 10) -1\n",
    "    else {\n",
    "      val ns = number.replaceAll(\"X\", idx.toString)\n",
    "\n",
    "      val even = ns.seq.map(_.toString.toInt).filter(_ % 2 == 0).map(double2Single).sum\n",
    "      val odd = ns.seq.map(_.toString.toInt).filter(_ % 2 != 0).sum\n",
    "\n",
    "      if ((even + odd) % 10 == 0) idx else checkDigit(number, idx + 1)\n",
    "    }\n",
    "  }\n",
    "\n",
    "  datas.foreach(v => println(checkDigit(v, 0)))\n"
   ]
  },
  {
   "cell_type": "code",
   "execution_count": 4,
   "metadata": {},
   "outputs": [
    {
     "name": "stdout",
     "output_type": "stream",
     "text": [
      "7\n"
     ]
    }
   ],
   "source": [
    "datas.foreach(v => println(checkDigit(v, 0)))"
   ]
  },
  {
   "cell_type": "markdown",
   "metadata": {},
   "source": [
    "## 複数形"
   ]
  },
  {
   "cell_type": "code",
   "execution_count": 1,
   "metadata": {},
   "outputs": [
    {
     "data": {
      "text/plain": [
       "\u001b[36mdatas\u001b[39m: \u001b[32mList\u001b[39m[\u001b[32mString\u001b[39m] = \u001b[33mList\u001b[39m(\n",
       "  \u001b[32m\"box\"\u001b[39m,\n",
       "  \u001b[32m\"photo\"\u001b[39m,\n",
       "  \u001b[32m\"axis\"\u001b[39m,\n",
       "  \u001b[32m\"dish\"\u001b[39m,\n",
       "  \u001b[32m\"church\"\u001b[39m,\n",
       "  \u001b[32m\"leaf\"\u001b[39m,\n",
       "  \u001b[32m\"knife\"\u001b[39m\n",
       ")\n",
       "defined \u001b[32mclass\u001b[39m \u001b[36mConvert\u001b[39m\n",
       "defined \u001b[32mobject\u001b[39m \u001b[36mRule1\u001b[39m\n",
       "defined \u001b[32mobject\u001b[39m \u001b[36mDefaultRule\u001b[39m\n",
       "\u001b[36mrule\u001b[39m: \u001b[32mList\u001b[39m[\u001b[32mMap\u001b[39m[\u001b[32mString\u001b[39m, \u001b[32mString\u001b[39m]] = \u001b[33mList\u001b[39m(\n",
       "  \u001b[33mMap\u001b[39m(\u001b[32m\"f\"\u001b[39m -> \u001b[32m\"ves\"\u001b[39m, \u001b[32m\"fe\"\u001b[39m -> \u001b[32m\"ves\"\u001b[39m),\n",
       "  \u001b[33mMap\u001b[39m(\u001b[32m\"f\"\u001b[39m -> \u001b[32m\"ves\"\u001b[39m, \u001b[32m\"fe\"\u001b[39m -> \u001b[32m\"ves\"\u001b[39m)\n",
       ")"
      ]
     },
     "execution_count": 1,
     "metadata": {},
     "output_type": "execute_result"
    }
   ],
   "source": [
    "  val datas = List(\n",
    "    \"box\",\n",
    "    \"photo\",\n",
    "    \"axis\",\n",
    "    \"dish\",\n",
    "    \"church\",\n",
    "    \"leaf\",\n",
    "    \"knife\"\n",
    "  )\n",
    "\n",
    "  abstract class Convert[A] {\n",
    "    protected val rule :Map[String, String]\n",
    "    def canConvert(s: A): Boolean\n",
    "    def to(s: A): A\n",
    "  }\n",
    "  object Rule1 extends Convert[String] {\n",
    "    override val rule = Map(\n",
    "      \"s\" -> \"es\",\n",
    "      \"sh\" -> \"es\",\n",
    "      \"ch\" -> \"es\",\n",
    "      \"o\" -> \"es\",\n",
    "      \"x\" -> \"es\",\n",
    "    )\n",
    "    override def canConvert(s: String): Boolean = {\n",
    "      s != to(s)\n",
    "    }\n",
    "    override def to(v: String) = {\n",
    "      rule.keys.foldLeft((rule.keys.head, v)){(acc, r) => {\n",
    "        if (acc._2.lastIndexOf(r) > 0) (acc._1, v + rule(r))\n",
    "        else (acc._1, v)\n",
    "      }}._2\n",
    "    }\n",
    "  }\n",
    "  object DefaultRule extends Convert[String] {\n",
    "    override val rule: Map[String, String] = Map.empty\n",
    "    override def canConvert(s: String): Boolean = true\n",
    "    override def to(v: String): String = v + \"s\"\n",
    "  }\n",
    "  val rule = List(\n",
    "    Map(\n",
    "      \"f\" -> \"ves\",\n",
    "      \"fe\" -> \"ves\",\n",
    "    ),\n",
    "    Map(\n",
    "      \"f\" -> \"ves\",\n",
    "      \"fe\" -> \"ves\",\n",
    "    )\n",
    "  )\n",
    "\n"
   ]
  },
  {
   "cell_type": "code",
   "execution_count": 2,
   "metadata": {},
   "outputs": [
    {
     "name": "stdout",
     "output_type": "stream",
     "text": [
      "boxs\n",
      "photos\n",
      "axiss\n",
      "dishes\n",
      "churchs\n",
      "leafs\n",
      "knifes\n"
     ]
    }
   ],
   "source": [
    "  datas.foreach {v =>\n",
    "    val to = v match {\n",
    "      case s if Rule1.canConvert(s) => Rule1.to(v)\n",
    "      case _ => DefaultRule.to(v)\n",
    "    }\n",
    "    println(to)\n",
    "  }"
   ]
  },
  {
   "cell_type": "code",
   "execution_count": null,
   "metadata": {},
   "outputs": [],
   "source": []
  }
 ],
 "metadata": {
  "kernelspec": {
   "display_name": "Scala",
   "language": "scala",
   "name": "scala"
  },
  "language_info": {
   "codemirror_mode": "text/x-scala",
   "file_extension": ".scala",
   "mimetype": "text/x-scala",
   "name": "scala",
   "nbconvert_exporter": "script",
   "version": "2.12.8"
  }
 },
 "nbformat": 4,
 "nbformat_minor": 2
}
