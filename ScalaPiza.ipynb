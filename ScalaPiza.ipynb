{
 "cells": [
  {
   "cell_type": "code",
   "execution_count": null,
   "metadata": {
    "slideshow": {
     "slide_type": "notes"
    },
    "toc-hr-collapsed": false
   },
   "outputs": [],
   "source": [
    "#### CheckDigit Example"
   ]
  },
  {
   "cell_type": "code",
   "execution_count": 3,
   "metadata": {},
   "outputs": [
    {
     "name": "stdout",
     "output_type": "stream",
     "text": [
      "7\n"
     ]
    },
    {
     "data": {
      "text/plain": [
       "\u001b[36mdatas\u001b[39m: \u001b[32mList\u001b[39m[\u001b[32mString\u001b[39m] = \u001b[33mList\u001b[39m(\u001b[32m\"091180422478189X\"\u001b[39m)\n",
       "defined \u001b[32mfunction\u001b[39m \u001b[36mdouble2Single\u001b[39m\n",
       "defined \u001b[32mfunction\u001b[39m \u001b[36mcheckDigit\u001b[39m"
      ]
     },
     "execution_count": 3,
     "metadata": {},
     "output_type": "execute_result"
    }
   ],
   "source": [
    "\n",
    "//  val lines = io.Source.stdin.getLines().toList\n",
    "//  val datas = lines.tail\n",
    "  val datas = List(\"091180422478189X\")\n",
    "\n",
    "  private def double2Single(num: Int): Int = {\n",
    "    val dbl = num * 2\n",
    "    if (dbl >= 10) {\n",
    "      val v1 = dbl.toString.charAt(1).toString.toInt\n",
    "      val v2 = dbl.toString.charAt(0).toString.toInt\n",
    "      v1 + v2\n",
    "    } else dbl\n",
    "  }\n",
    "\n",
    "  def checkDigit(number: String, idx: Int):Int =  {\n",
    "    if (idx >= 10) -1\n",
    "    else {\n",
    "      val ns = number.replaceAll(\"X\", idx.toString)\n",
    "\n",
    "      val even = ns.seq.map(_.toString.toInt).filter(_ % 2 == 0).map(double2Single).sum\n",
    "      val odd = ns.seq.map(_.toString.toInt).filter(_ % 2 != 0).sum\n",
    "\n",
    "      if ((even + odd) % 10 == 0) idx else checkDigit(number, idx + 1)\n",
    "    }\n",
    "  }\n",
    "\n",
    "  datas.foreach(v => println(checkDigit(v, 0)))\n"
   ]
  },
  {
   "cell_type": "code",
   "execution_count": 4,
   "metadata": {},
   "outputs": [
    {
     "name": "stdout",
     "output_type": "stream",
     "text": [
      "7\n"
     ]
    }
   ],
   "source": [
    "datas.foreach(v => println(checkDigit(v, 0)))"
   ]
  },
  {
   "cell_type": "code",
   "execution_count": null,
   "metadata": {},
   "outputs": [],
   "source": []
  }
 ],
 "metadata": {
  "kernelspec": {
   "display_name": "Scala",
   "language": "scala",
   "name": "scala"
  },
  "language_info": {
   "codemirror_mode": "text/x-scala",
   "file_extension": ".scala",
   "mimetype": "text/x-scala",
   "name": "scala",
   "nbconvert_exporter": "script",
   "version": "2.12.8"
  }
 },
 "nbformat": 4,
 "nbformat_minor": 2
}
