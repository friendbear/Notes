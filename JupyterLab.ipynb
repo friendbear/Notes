{
 "cells": [
  {
   "cell_type": "markdown",
   "metadata": {
    "toc-hr-collapsed": true
   },
   "source": [
    "# Jupyter Lab\n",
    "\n",
    "## Setup\n",
    "\n",
    "### Install \n",
    "\n",
    "<https://github.com/jupyterlab/jupyterlab/blob/master/CONTRIBUTING.md>\n",
    "\n",
    "extension install example\n",
    "```shell\n",
    "jupyter labextension install @jupyterlab/git\n",
    "pip install jupyterlab-git\n",
    "jupyter serverextension enable --py jupyterlab_git\n",
    "```\n",
    "\n",
    "### Scala Kernel\n",
    "[almond](http://almond-sh.github.io/almond/stable/docs/quick-start-install)\n",
    "```shell\n",
    "SCALA_VERSION=2.12.8 ALMOND_VERSION=0.2.1\n",
    "coursier bootstrap \\\n",
    "     -r jitpack \\\n",
    "     -i user -I user:sh.almond:scala-kernel-api_$SCALA_VERSION:$ALMOND_VERSION \\\n",
    "     sh.almond:scala-kernel_$SCALA_VERSION:$ALMOND_VERSION \\\n",
    "     --sources --default=true \\\n",
    "     -o almond\n",
    "```\n",
    "\n",
    "### Go Kernel\n",
    "<https://github.com/gopherdata/gophernotes>\n",
    "\n",
    "### Bash Kernel\n",
    "\n",
    "<https://github.com/takluyver/bash_kernel>\n",
    "\n"
   ]
  }
 ],
 "metadata": {
  "kernelspec": {
   "display_name": "Python 3",
   "language": "python",
   "name": "python3"
  },
  "language_info": {
   "codemirror_mode": {
    "name": "ipython",
    "version": 3
   },
   "file_extension": ".py",
   "mimetype": "text/x-python",
   "name": "python",
   "nbconvert_exporter": "python",
   "pygments_lexer": "ipython3",
   "version": "3.7.2"
  },
  "toc-autonumbering": true,
  "toc-showcode": true,
  "toc-showmarkdowntxt": false
 },
 "nbformat": 4,
 "nbformat_minor": 2
}
